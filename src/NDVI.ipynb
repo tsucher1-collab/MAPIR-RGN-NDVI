{
 "cells": [
  {
   "cell_type": "code",
   "execution_count": 3,
   "metadata": {},
   "outputs": [],
   "source": [
    "import rasterio\n",
    "import numpy as np\n",
    "import matplotlib.pyplot as plt\n",
    "from matplotlib.colors import Normalize\n",
    "import time\n",
    "from threading import Thread\n",
    "import yaml\n"
   ]
  },
  {
   "cell_type": "code",
   "execution_count": 9,
   "metadata": {},
   "outputs": [],
   "source": [
    "fp = 'park-grass-10-18-2024_rgn-ortho.tif'\n",
    "out = 'NDVI_rasterio.tif'\n",
    "src = rasterio.open(fp)\n",
    "array = src.read"
   ]
  },
  {
   "cell_type": "code",
   "execution_count": 13,
   "metadata": {},
   "outputs": [],
   "source": [
    "def calc_tif_ndvi(fp, output_path='ndvi_output.tif'):\n",
    "    # Function to print progress in the background\n",
    "    print(\"NDVI processing underway.\")\n",
    "    def print_progress():\n",
    "        start_time = time.time()\n",
    "        last_report = 0\n",
    "        while not processing_done:\n",
    "            elapsed = time.time() - start_time\n",
    "            if elapsed >= last_report + 10:\n",
    "                print(f\"Processing... {int(elapsed//10)*10} seconds elapsed\")\n",
    "                last_report = elapsed//10 * 10\n",
    "            time.sleep(0.1)  # Check more frequently\n",
    "    \n",
    "    processing_done = False\n",
    "    # Start the progress thread\n",
    "    progress_thread = Thread(target=print_progress)\n",
    "    progress_thread.start()\n",
    "\n",
    "    try:\n",
    "        with rasterio.open(fp) as src:\n",
    "            # Read bands and calculate NDVI\n",
    "            red = src.read(1).astype(float) / 10000  # Band 1 = Red\n",
    "            nir = src.read(3).astype(float) / 10000  # Band 3 = NIR\n",
    "\n",
    "            # Calculate NDVI\n",
    "            with np.errstate(divide='ignore', invalid='ignore'):\n",
    "                ndvi = (nir - red) / (nir + red)\n",
    "                ndvi = np.where((nir + red) == 0, 0, ndvi)  # Handle division by zero\n",
    "                ndvi = np.clip(ndvi, -1, 1)  # Enforce valid range\n",
    "\n",
    "            # Get metadata from source file\n",
    "            profile = src.profile\n",
    "            profile.update(\n",
    "                dtype=rasterio.float32,\n",
    "                count=1,\n",
    "                nodata=np.nan,\n",
    "                driver='GTiff'\n",
    "            )\n",
    "\n",
    "            # Save the NDVI raster\n",
    "            with rasterio.open(output_path, 'w', **profile) as dst:\n",
    "                dst.write(ndvi.astype(rasterio.float32), 1)\n",
    "                dst.set_band_description(1, 'NDVI')\n",
    "\n",
    "        print(\"NDVI range:\", np.nanmin(ndvi), np.nanmax(ndvi))  # Should be [-1, 1]\n",
    "        print(f\"NDVI processing finished! Result saved to {output_path}\")\n",
    "    \n",
    "    finally:\n",
    "        processing_done = True\n",
    "        progress_thread.join()  # Wait for the progress thread to finish"
   ]
  },
  {
   "cell_type": "code",
   "execution_count": 12,
   "metadata": {},
   "outputs": [
    {
     "name": "stdout",
     "output_type": "stream",
     "text": [
      "Processing... 10 seconds elapsed\n",
      "Processing... 20 seconds elapsed\n",
      "Processing... 30 seconds elapsed\n",
      "Processing... 40 seconds elapsed\n",
      "Processing... 50 seconds elapsed\n",
      "Processing... 60 seconds elapsed\n",
      "Processing... 70 seconds elapsed\n",
      "Processing... 80 seconds elapsed\n",
      "Processing... 90 seconds elapsed\n",
      "Processing... 100 seconds elapsed\n",
      "Processing... 110 seconds elapsed\n",
      "Processing... 120 seconds elapsed\n",
      "Processing... 130 seconds elapsed\n",
      "Processing... 140 seconds elapsed\n",
      "Processing... 150 seconds elapsed\n",
      "Processing... 160 seconds elapsed\n",
      "NDVI range: -1.0 0.9012812752219532\n",
      "NDVI processing finished! Result saved to NDVI_rasterio.tif\n"
     ]
    }
   ],
   "source": [
    "calc_tif_ndvi(fp, out)"
   ]
  }
 ],
 "metadata": {
  "kernelspec": {
   "display_name": "Python 3",
   "language": "python",
   "name": "python3"
  },
  "language_info": {
   "codemirror_mode": {
    "name": "ipython",
    "version": 3
   },
   "file_extension": ".py",
   "mimetype": "text/x-python",
   "name": "python",
   "nbconvert_exporter": "python",
   "pygments_lexer": "ipython3",
   "version": "3.9.6"
  }
 },
 "nbformat": 4,
 "nbformat_minor": 2
}
